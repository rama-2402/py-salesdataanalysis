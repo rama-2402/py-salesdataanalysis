{
 "cells": [
  {
   "cell_type": "code",
   "execution_count": 34,
   "id": "8c484ce0",
   "metadata": {},
   "outputs": [],
   "source": [
    "import pandas as pd\n",
    "import os\n",
    "import matplotlib.pyplot as mp\n",
    "\n",
    "from itertools import combinations\n",
    "from collections import Counter"
   ]
  },
  {
   "cell_type": "code",
   "execution_count": 11,
   "id": "14cc8347",
   "metadata": {},
   "outputs": [],
   "source": [
    "#importing and creating all csv to a single file"
   ]
  },
  {
   "cell_type": "code",
   "execution_count": 35,
   "id": "2922787e",
   "metadata": {},
   "outputs": [],
   "source": [
    "files_df = [pd.read_csv(f\"./Sales_Data/{file}\") for file in os.listdir('./Sales_Data')]\n",
    "merged_file = pd.DataFrame()\n",
    "\n",
    "for file in files_df:\n",
    "    merged_file = pd.concat([merged_file, file])\n",
    "\n",
    "merged_file.to_csv('total_sales.csv', index=False)"
   ]
  },
  {
   "cell_type": "code",
   "execution_count": 7,
   "id": "a600e563",
   "metadata": {},
   "outputs": [],
   "source": [
    "#reading all data csv and cleaning NaN"
   ]
  },
  {
   "cell_type": "code",
   "execution_count": 36,
   "id": "354adc15",
   "metadata": {},
   "outputs": [],
   "source": [
    "# df = pd.read_csv(\"all_data.csv\")\n",
    "df = pd.read_csv(\"total_sales.csv\")\n",
    "df = df.dropna(how=\"all\")\n",
    "#parse_dates does not work coz of unclean data"
   ]
  },
  {
   "cell_type": "code",
   "execution_count": null,
   "id": "0f7b6ec6",
   "metadata": {},
   "outputs": [],
   "source": [
    "#cleaning data "
   ]
  },
  {
   "cell_type": "code",
   "execution_count": 37,
   "id": "4984826a",
   "metadata": {},
   "outputs": [],
   "source": [
    "df.insert(5,'Month', df['Order Date'].str[0:2])\n",
    "df = df[df['Month'] != 'Or']\n",
    "df['Month'] = df['Month'].astype('int8')\n",
    "\n",
    "headers = list(df.columns.values)\n",
    "for h in headers:\n",
    "    df = df[df[h] != h]"
   ]
  },
  {
   "cell_type": "code",
   "execution_count": null,
   "id": "1c41f05a",
   "metadata": {},
   "outputs": [],
   "source": [
    "#creating a Sales column and finding the highest sales month"
   ]
  },
  {
   "cell_type": "code",
   "execution_count": 38,
   "id": "f17a508c",
   "metadata": {},
   "outputs": [
    {
     "data": {
      "text/html": [
       "<div>\n",
       "<style scoped>\n",
       "    .dataframe tbody tr th:only-of-type {\n",
       "        vertical-align: middle;\n",
       "    }\n",
       "\n",
       "    .dataframe tbody tr th {\n",
       "        vertical-align: top;\n",
       "    }\n",
       "\n",
       "    .dataframe thead th {\n",
       "        text-align: right;\n",
       "    }\n",
       "</style>\n",
       "<table border=\"1\" class=\"dataframe\">\n",
       "  <thead>\n",
       "    <tr style=\"text-align: right;\">\n",
       "      <th></th>\n",
       "      <th>Order ID</th>\n",
       "      <th>Product</th>\n",
       "      <th>Quantity Ordered</th>\n",
       "      <th>Price Each</th>\n",
       "      <th>Sales</th>\n",
       "      <th>Order Date</th>\n",
       "      <th>Month</th>\n",
       "      <th>Purchase Address</th>\n",
       "    </tr>\n",
       "  </thead>\n",
       "  <tbody>\n",
       "    <tr>\n",
       "      <th>0</th>\n",
       "      <td>295665</td>\n",
       "      <td>Macbook Pro Laptop</td>\n",
       "      <td>1</td>\n",
       "      <td>1700</td>\n",
       "      <td>1700.00</td>\n",
       "      <td>12/30/19 00:01</td>\n",
       "      <td>12</td>\n",
       "      <td>136 Church St, New York City, NY 10001</td>\n",
       "    </tr>\n",
       "    <tr>\n",
       "      <th>1</th>\n",
       "      <td>295666</td>\n",
       "      <td>LG Washing Machine</td>\n",
       "      <td>1</td>\n",
       "      <td>600.0</td>\n",
       "      <td>600.00</td>\n",
       "      <td>12/29/19 07:03</td>\n",
       "      <td>12</td>\n",
       "      <td>562 2nd St, New York City, NY 10001</td>\n",
       "    </tr>\n",
       "    <tr>\n",
       "      <th>2</th>\n",
       "      <td>295667</td>\n",
       "      <td>USB-C Charging Cable</td>\n",
       "      <td>1</td>\n",
       "      <td>11.95</td>\n",
       "      <td>11.95</td>\n",
       "      <td>12/12/19 18:21</td>\n",
       "      <td>12</td>\n",
       "      <td>277 Main St, New York City, NY 10001</td>\n",
       "    </tr>\n",
       "    <tr>\n",
       "      <th>3</th>\n",
       "      <td>295668</td>\n",
       "      <td>27in FHD Monitor</td>\n",
       "      <td>1</td>\n",
       "      <td>149.99</td>\n",
       "      <td>149.99</td>\n",
       "      <td>12/22/19 15:13</td>\n",
       "      <td>12</td>\n",
       "      <td>410 6th St, San Francisco, CA 94016</td>\n",
       "    </tr>\n",
       "    <tr>\n",
       "      <th>4</th>\n",
       "      <td>295669</td>\n",
       "      <td>USB-C Charging Cable</td>\n",
       "      <td>1</td>\n",
       "      <td>11.95</td>\n",
       "      <td>11.95</td>\n",
       "      <td>12/18/19 12:38</td>\n",
       "      <td>12</td>\n",
       "      <td>43 Hill St, Atlanta, GA 30301</td>\n",
       "    </tr>\n",
       "  </tbody>\n",
       "</table>\n",
       "</div>"
      ],
      "text/plain": [
       "  Order ID               Product Quantity Ordered Price Each    Sales  \\\n",
       "0   295665    Macbook Pro Laptop                1       1700  1700.00   \n",
       "1   295666    LG Washing Machine                1      600.0   600.00   \n",
       "2   295667  USB-C Charging Cable                1      11.95    11.95   \n",
       "3   295668      27in FHD Monitor                1     149.99   149.99   \n",
       "4   295669  USB-C Charging Cable                1      11.95    11.95   \n",
       "\n",
       "       Order Date  Month                        Purchase Address  \n",
       "0  12/30/19 00:01     12  136 Church St, New York City, NY 10001  \n",
       "1  12/29/19 07:03     12     562 2nd St, New York City, NY 10001  \n",
       "2  12/12/19 18:21     12    277 Main St, New York City, NY 10001  \n",
       "3  12/22/19 15:13     12     410 6th St, San Francisco, CA 94016  \n",
       "4  12/18/19 12:38     12           43 Hill St, Atlanta, GA 30301  "
      ]
     },
     "execution_count": 38,
     "metadata": {},
     "output_type": "execute_result"
    }
   ],
   "source": [
    "df.insert(4, 'Sales', df['Quantity Ordered'].astype('int32') * df['Price Each'].astype('float'))\n",
    "df.head()"
   ]
  },
  {
   "cell_type": "code",
   "execution_count": 39,
   "id": "96f1a812",
   "metadata": {},
   "outputs": [],
   "source": [
    "sales_summary = df.groupby('Month').sum()\n",
    "# sales_summary"
   ]
  },
  {
   "cell_type": "code",
   "execution_count": 40,
   "id": "d555458d",
   "metadata": {},
   "outputs": [
    {
     "data": {
      "image/png": "[encoded data removed]",
      "text/plain": [
       "<Figure size 640x480 with 1 Axes>"
      ]
     },
     "metadata": {},
     "output_type": "display_data"
    }
   ],
   "source": [
    "mp.bar(range(1,13), sales_summary['Sales'])\n",
    "mp.xticks(range(1,13))\n",
    "mp.xlabel('Month')\n",
    "mp.ylabel('Sales in USD ($)')\n",
    "mp.show()\n",
    "\n",
    "#INFERENCE\n",
    "#The Month of December has the Highest sales record in terms of months"
   ]
  },
  {
   "cell_type": "code",
   "execution_count": null,
   "id": "d5e5c591",
   "metadata": {},
   "outputs": [],
   "source": [
    "#finding city that has highest sales"
   ]
  },
  {
   "cell_type": "code",
   "execution_count": 41,
   "id": "ccc85526",
   "metadata": {},
   "outputs": [],
   "source": [
    "df[\"City\"] = df['Purchase Address'].str.split(',').str[1] + df['Purchase Address'].str.split(',').str[2].str[0:3]"
   ]
  },
  {
   "cell_type": "code",
   "execution_count": 42,
   "id": "e87a4bb9",
   "metadata": {},
   "outputs": [
    {
     "data": {
      "text/html": [
       "<div>\n",
       "<style scoped>\n",
       "    .dataframe tbody tr th:only-of-type {\n",
       "        vertical-align: middle;\n",
       "    }\n",
       "\n",
       "    .dataframe tbody tr th {\n",
       "        vertical-align: top;\n",
       "    }\n",
       "\n",
       "    .dataframe thead th {\n",
       "        text-align: right;\n",
       "    }\n",
       "</style>\n",
       "<table border=\"1\" class=\"dataframe\">\n",
       "  <thead>\n",
       "    <tr style=\"text-align: right;\">\n",
       "      <th></th>\n",
       "      <th>Order ID</th>\n",
       "      <th>Product</th>\n",
       "      <th>Quantity Ordered</th>\n",
       "      <th>Price Each</th>\n",
       "      <th>Sales</th>\n",
       "      <th>Order Date</th>\n",
       "      <th>Month</th>\n",
       "      <th>Purchase Address</th>\n",
       "    </tr>\n",
       "    <tr>\n",
       "      <th>City</th>\n",
       "      <th></th>\n",
       "      <th></th>\n",
       "      <th></th>\n",
       "      <th></th>\n",
       "      <th></th>\n",
       "      <th></th>\n",
       "      <th></th>\n",
       "      <th></th>\n",
       "    </tr>\n",
       "  </thead>\n",
       "  <tbody>\n",
       "    <tr>\n",
       "      <th>Atlanta GA</th>\n",
       "      <td>2956692956932957102957372957372957562957602957...</td>\n",
       "      <td>USB-C Charging CableWired HeadphonesAAA Batter...</td>\n",
       "      <td>1111111111111111111111111111112211111111111111...</td>\n",
       "      <td>11.9511.992.9970014.95379.9999.9914.9511.952.9...</td>\n",
       "      <td>2795498.58</td>\n",
       "      <td>12/18/19 12:3812/16/19 16:4012/26/19 19:0912/1...</td>\n",
       "      <td>104794</td>\n",
       "      <td>43 Hill St, Atlanta, GA 30301856 12th St, Atla...</td>\n",
       "    </tr>\n",
       "    <tr>\n",
       "      <th>Austin TX</th>\n",
       "      <td>2956802957022957032957032957542957892957982958...</td>\n",
       "      <td>Lightning Charging CableWired HeadphonesAA Bat...</td>\n",
       "      <td>1211111111111122111112111221111112111212111111...</td>\n",
       "      <td>14.9511.993.8499.9914.9514.9511.9911.95109.997...</td>\n",
       "      <td>1819581.75</td>\n",
       "      <td>12/01/19 14:3012/21/19 18:5012/17/19 12:2712/1...</td>\n",
       "      <td>69829</td>\n",
       "      <td>338 Main St, Austin, TX 73301628 River St, Aus...</td>\n",
       "    </tr>\n",
       "    <tr>\n",
       "      <th>Boston MA</th>\n",
       "      <td>2956772956812956812956812956812956872956952957...</td>\n",
       "      <td>AA Batteries (4-pack)Google PhoneUSB-C Chargin...</td>\n",
       "      <td>2111111111111111111111211111111111111111111111...</td>\n",
       "      <td>3.8460011.9599.9911.9915014.95149.9970014.9515...</td>\n",
       "      <td>3661642.01</td>\n",
       "      <td>12/20/19 19:1912/25/19 12:3712/25/19 12:3712/2...</td>\n",
       "      <td>141112</td>\n",
       "      <td>866 Pine St, Boston, MA 0221579 Elm St, Boston...</td>\n",
       "    </tr>\n",
       "    <tr>\n",
       "      <th>Dallas TX</th>\n",
       "      <td>2956722956732956742956782956792956942957242957...</td>\n",
       "      <td>USB-C Charging CableBose SoundSport Headphones...</td>\n",
       "      <td>2142112111111111111111131111111121111111112211...</td>\n",
       "      <td>11.9599.992.992.9911.9514.953.84379.992.996003...</td>\n",
       "      <td>2767975.40</td>\n",
       "      <td>12/13/19 09:2912/15/19 23:2612/28/19 11:5112/0...</td>\n",
       "      <td>104620</td>\n",
       "      <td>813 Hickory St, Dallas, TX 75001718 Wilson St,...</td>\n",
       "    </tr>\n",
       "    <tr>\n",
       "      <th>Los Angeles CA</th>\n",
       "      <td>2956762956882956912956922957062957142957162957...</td>\n",
       "      <td>ThinkPad LaptopApple Airpods HeadphonesBose So...</td>\n",
       "      <td>1112311111211111111111131111111111111111112111...</td>\n",
       "      <td>999.9915099.993.842.99700109.99149.993.8411.95...</td>\n",
       "      <td>5452570.80</td>\n",
       "      <td>12/28/19 17:1912/08/19 11:2112/22/19 18:3412/1...</td>\n",
       "      <td>208325</td>\n",
       "      <td>410 Lincoln St, Los Angeles, CA 90001546 Park ...</td>\n",
       "    </tr>\n",
       "    <tr>\n",
       "      <th>New York City NY</th>\n",
       "      <td>2956652956662956672956702956982956982957002957...</td>\n",
       "      <td>Macbook Pro LaptopLG Washing MachineUSB-C Char...</td>\n",
       "      <td>1111121111111111111111111112111111211111111111...</td>\n",
       "      <td>1700600.011.953.8440011.9599.9911.9911.9917009...</td>\n",
       "      <td>4664317.43</td>\n",
       "      <td>12/30/19 00:0112/29/19 07:0312/12/19 18:2112/3...</td>\n",
       "      <td>175741</td>\n",
       "      <td>136 Church St, New York City, NY 10001562 2nd ...</td>\n",
       "    </tr>\n",
       "    <tr>\n",
       "      <th>Portland ME</th>\n",
       "      <td>2956862957972958622960182961272961582962062962...</td>\n",
       "      <td>USB-C Charging CableWired HeadphonesAAA Batter...</td>\n",
       "      <td>1112111111211111111111114111111211131121111111...</td>\n",
       "      <td>11.9511.992.992.9911.9511.95389.99149.9911.951...</td>\n",
       "      <td>449758.27</td>\n",
       "      <td>12/17/19 16:1012/16/19 09:2312/03/19 14:2212/2...</td>\n",
       "      <td>17144</td>\n",
       "      <td>573 Maple St, Portland, ME 04101163 Washington...</td>\n",
       "    </tr>\n",
       "    <tr>\n",
       "      <th>Portland OR</th>\n",
       "      <td>2956712956822957342957572958192958572958922958...</td>\n",
       "      <td>USB-C Charging CableUSB-C Charging CableAAA Ba...</td>\n",
       "      <td>1111111111111111111111111141211112211111211111...</td>\n",
       "      <td>11.9511.952.993.8414.9511.9511.95149.9999.9915...</td>\n",
       "      <td>1870732.34</td>\n",
       "      <td>12/16/19 15:1012/23/19 19:2512/25/19 12:3812/0...</td>\n",
       "      <td>70621</td>\n",
       "      <td>928 12th St, Portland, OR 97035780 Elm St, Por...</td>\n",
       "    </tr>\n",
       "    <tr>\n",
       "      <th>San Francisco CA</th>\n",
       "      <td>2956682956752956832956842956852956892956962956...</td>\n",
       "      <td>27in FHD MonitorUSB-C Charging CableWired Head...</td>\n",
       "      <td>1214111111121113111223111111111111111111111111...</td>\n",
       "      <td>149.9911.9511.992.9911.99600.014.95999.9999.99...</td>\n",
       "      <td>8262203.91</td>\n",
       "      <td>12/22/19 15:1312/13/19 13:5212/23/19 22:4612/0...</td>\n",
       "      <td>315520</td>\n",
       "      <td>410 6th St, San Francisco, CA 94016594 1st St,...</td>\n",
       "    </tr>\n",
       "    <tr>\n",
       "      <th>Seattle WA</th>\n",
       "      <td>2956902956992957152957212957652957662957842957...</td>\n",
       "      <td>Apple Airpods HeadphonesAA Batteries (4-pack)U...</td>\n",
       "      <td>1121111111111111111111111111111112111114111111...</td>\n",
       "      <td>1503.8411.95379.9911.9914.9511.9514.953.841501...</td>\n",
       "      <td>2747755.48</td>\n",
       "      <td>12/04/19 00:4412/17/19 18:3212/17/19 18:2012/0...</td>\n",
       "      <td>104941</td>\n",
       "      <td>174 Cedar St, Seattle, WA 98101162 Maple St, S...</td>\n",
       "    </tr>\n",
       "  </tbody>\n",
       "</table>\n",
       "</div>"
      ],
      "text/plain": [
       "                                                           Order ID  \\\n",
       "City                                                                  \n",
       "Atlanta GA        2956692956932957102957372957372957562957602957...   \n",
       "Austin TX         2956802957022957032957032957542957892957982958...   \n",
       "Boston MA         2956772956812956812956812956812956872956952957...   \n",
       "Dallas TX         2956722956732956742956782956792956942957242957...   \n",
       "Los Angeles CA    2956762956882956912956922957062957142957162957...   \n",
       "New York City NY  2956652956662956672956702956982956982957002957...   \n",
       "Portland ME       2956862957972958622960182961272961582962062962...   \n",
       "Portland OR       2956712956822957342957572958192958572958922958...   \n",
       "San Francisco CA  2956682956752956832956842956852956892956962956...   \n",
       "Seattle WA        2956902956992957152957212957652957662957842957...   \n",
       "\n",
       "                                                            Product  \\\n",
       "City                                                                  \n",
       "Atlanta GA        USB-C Charging CableWired HeadphonesAAA Batter...   \n",
       "Austin TX         Lightning Charging CableWired HeadphonesAA Bat...   \n",
       "Boston MA         AA Batteries (4-pack)Google PhoneUSB-C Chargin...   \n",
       "Dallas TX         USB-C Charging CableBose SoundSport Headphones...   \n",
       "Los Angeles CA    ThinkPad LaptopApple Airpods HeadphonesBose So...   \n",
       "New York City NY  Macbook Pro LaptopLG Washing MachineUSB-C Char...   \n",
       "Portland ME       USB-C Charging CableWired HeadphonesAAA Batter...   \n",
       "Portland OR       USB-C Charging CableUSB-C Charging CableAAA Ba...   \n",
       "San Francisco CA  27in FHD MonitorUSB-C Charging CableWired Head...   \n",
       "Seattle WA        Apple Airpods HeadphonesAA Batteries (4-pack)U...   \n",
       "\n",
       "                                                   Quantity Ordered  \\\n",
       "City                                                                  \n",
       "Atlanta GA        1111111111111111111111111111112211111111111111...   \n",
       "Austin TX         1211111111111122111112111221111112111212111111...   \n",
       "Boston MA         2111111111111111111111211111111111111111111111...   \n",
       "Dallas TX         2142112111111111111111131111111121111111112211...   \n",
       "Los Angeles CA    1112311111211111111111131111111111111111112111...   \n",
       "New York City NY  1111121111111111111111111112111111211111111111...   \n",
       "Portland ME       1112111111211111111111114111111211131121111111...   \n",
       "Portland OR       1111111111111111111111111141211112211111211111...   \n",
       "San Francisco CA  1214111111121113111223111111111111111111111111...   \n",
       "Seattle WA        1121111111111111111111111111111112111114111111...   \n",
       "\n",
       "                                                         Price Each  \\\n",
       "City                                                                  \n",
       "Atlanta GA        11.9511.992.9970014.95379.9999.9914.9511.952.9...   \n",
       "Austin TX         14.9511.993.8499.9914.9514.9511.9911.95109.997...   \n",
       "Boston MA         3.8460011.9599.9911.9915014.95149.9970014.9515...   \n",
       "Dallas TX         11.9599.992.992.9911.9514.953.84379.992.996003...   \n",
       "Los Angeles CA    999.9915099.993.842.99700109.99149.993.8411.95...   \n",
       "New York City NY  1700600.011.953.8440011.9599.9911.9911.9917009...   \n",
       "Portland ME       11.9511.992.992.9911.9511.95389.99149.9911.951...   \n",
       "Portland OR       11.9511.952.993.8414.9511.9511.95149.9999.9915...   \n",
       "San Francisco CA  149.9911.9511.992.9911.99600.014.95999.9999.99...   \n",
       "Seattle WA        1503.8411.95379.9911.9914.9511.9514.953.841501...   \n",
       "\n",
       "                       Sales  \\\n",
       "City                           \n",
       "Atlanta GA        2795498.58   \n",
       "Austin TX         1819581.75   \n",
       "Boston MA         3661642.01   \n",
       "Dallas TX         2767975.40   \n",
       "Los Angeles CA    5452570.80   \n",
       "New York City NY  4664317.43   \n",
       "Portland ME        449758.27   \n",
       "Portland OR       1870732.34   \n",
       "San Francisco CA  8262203.91   \n",
       "Seattle WA        2747755.48   \n",
       "\n",
       "                                                         Order Date   Month  \\\n",
       "City                                                                          \n",
       "Atlanta GA        12/18/19 12:3812/16/19 16:4012/26/19 19:0912/1...  104794   \n",
       "Austin TX         12/01/19 14:3012/21/19 18:5012/17/19 12:2712/1...   69829   \n",
       "Boston MA         12/20/19 19:1912/25/19 12:3712/25/19 12:3712/2...  141112   \n",
       "Dallas TX         12/13/19 09:2912/15/19 23:2612/28/19 11:5112/0...  104620   \n",
       "Los Angeles CA    12/28/19 17:1912/08/19 11:2112/22/19 18:3412/1...  208325   \n",
       "New York City NY  12/30/19 00:0112/29/19 07:0312/12/19 18:2112/3...  175741   \n",
       "Portland ME       12/17/19 16:1012/16/19 09:2312/03/19 14:2212/2...   17144   \n",
       "Portland OR       12/16/19 15:1012/23/19 19:2512/25/19 12:3812/0...   70621   \n",
       "San Francisco CA  12/22/19 15:1312/13/19 13:5212/23/19 22:4612/0...  315520   \n",
       "Seattle WA        12/04/19 00:4412/17/19 18:3212/17/19 18:2012/0...  104941   \n",
       "\n",
       "                                                   Purchase Address  \n",
       "City                                                                 \n",
       "Atlanta GA        43 Hill St, Atlanta, GA 30301856 12th St, Atla...  \n",
       "Austin TX         338 Main St, Austin, TX 73301628 River St, Aus...  \n",
       "Boston MA         866 Pine St, Boston, MA 0221579 Elm St, Boston...  \n",
       "Dallas TX         813 Hickory St, Dallas, TX 75001718 Wilson St,...  \n",
       "Los Angeles CA    410 Lincoln St, Los Angeles, CA 90001546 Park ...  \n",
       "New York City NY  136 Church St, New York City, NY 10001562 2nd ...  \n",
       "Portland ME       573 Maple St, Portland, ME 04101163 Washington...  \n",
       "Portland OR       928 12th St, Portland, OR 97035780 Elm St, Por...  \n",
       "San Francisco CA  410 6th St, San Francisco, CA 94016594 1st St,...  \n",
       "Seattle WA        174 Cedar St, Seattle, WA 98101162 Maple St, S...  "
      ]
     },
     "execution_count": 42,
     "metadata": {},
     "output_type": "execute_result"
    }
   ],
   "source": [
    "city_sales = df.groupby('City').sum()\n",
    "city_sales"
   ]
  },
  {
   "cell_type": "code",
   "execution_count": 43,
   "id": "80653d6c",
   "metadata": {},
   "outputs": [
    {
     "data": {
      "image/png": "[encoded data removed]",
      "text/plain": [
       "<Figure size 640x480 with 1 Axes>"
      ]
     },
     "metadata": {},
     "output_type": "display_data"
    }
   ],
   "source": [
    "cities = [city for city, df in df.groupby('City')]\n",
    "\n",
    "mp.bar(cities, city_sales['Sales'])\n",
    "mp.xticks(cities, rotation='vertical')\n",
    "mp.xlabel('Cities')\n",
    "mp.ylabel('Sales in USD ($)')\n",
    "mp.show()\n",
    "\n",
    "#INFERENCE\n",
    "#San Francisco has highest number of sales in terms of cities"
   ]
  },
  {
   "cell_type": "code",
   "execution_count": null,
   "id": "38746f61",
   "metadata": {},
   "outputs": [],
   "source": [
    "#Do some hypothesis testing for sales data "
   ]
  },
  {
   "cell_type": "code",
   "execution_count": null,
   "id": "04608f6b",
   "metadata": {},
   "outputs": [],
   "source": [
    "#what is the peak hour sale to show AD to customers"
   ]
  },
  {
   "cell_type": "code",
   "execution_count": 44,
   "id": "a87e6e04",
   "metadata": {},
   "outputs": [
    {
     "name": "stderr",
     "output_type": "stream",
     "text": [
      "/var/folders/nb/lsb0ryhs7r985fs4vtjr25q80000gn/T/ipykernel_10872/3072535395.py:1: UserWarning: Could not infer format, so each element will be parsed individually, falling back to `dateutil`. To ensure parsing is consistent and as-expected, please specify a format.\n",
      "  df['Order Date'] = pd.to_datetime(df['Order Date'])\n"
     ]
    }
   ],
   "source": [
    "df['Order Date'] = pd.to_datetime(df['Order Date'])"
   ]
  },
  {
   "cell_type": "code",
   "execution_count": 45,
   "id": "713d429d",
   "metadata": {},
   "outputs": [
    {
     "data": {
      "text/html": [
       "<div>\n",
       "<style scoped>\n",
       "    .dataframe tbody tr th:only-of-type {\n",
       "        vertical-align: middle;\n",
       "    }\n",
       "\n",
       "    .dataframe tbody tr th {\n",
       "        vertical-align: top;\n",
       "    }\n",
       "\n",
       "    .dataframe thead th {\n",
       "        text-align: right;\n",
       "    }\n",
       "</style>\n",
       "<table border=\"1\" class=\"dataframe\">\n",
       "  <thead>\n",
       "    <tr style=\"text-align: right;\">\n",
       "      <th></th>\n",
       "      <th>Order ID</th>\n",
       "      <th>Product</th>\n",
       "      <th>Quantity Ordered</th>\n",
       "      <th>Price Each</th>\n",
       "      <th>Sales</th>\n",
       "      <th>Order Date</th>\n",
       "      <th>Hour</th>\n",
       "      <th>Month</th>\n",
       "      <th>Purchase Address</th>\n",
       "      <th>City</th>\n",
       "    </tr>\n",
       "  </thead>\n",
       "  <tbody>\n",
       "    <tr>\n",
       "      <th>0</th>\n",
       "      <td>295665</td>\n",
       "      <td>Macbook Pro Laptop</td>\n",
       "      <td>1</td>\n",
       "      <td>1700</td>\n",
       "      <td>1700.00</td>\n",
       "      <td>2019-12-30 00:01:00</td>\n",
       "      <td>0</td>\n",
       "      <td>12</td>\n",
       "      <td>136 Church St, New York City, NY 10001</td>\n",
       "      <td>New York City NY</td>\n",
       "    </tr>\n",
       "    <tr>\n",
       "      <th>1</th>\n",
       "      <td>295666</td>\n",
       "      <td>LG Washing Machine</td>\n",
       "      <td>1</td>\n",
       "      <td>600.0</td>\n",
       "      <td>600.00</td>\n",
       "      <td>2019-12-29 07:03:00</td>\n",
       "      <td>7</td>\n",
       "      <td>12</td>\n",
       "      <td>562 2nd St, New York City, NY 10001</td>\n",
       "      <td>New York City NY</td>\n",
       "    </tr>\n",
       "    <tr>\n",
       "      <th>2</th>\n",
       "      <td>295667</td>\n",
       "      <td>USB-C Charging Cable</td>\n",
       "      <td>1</td>\n",
       "      <td>11.95</td>\n",
       "      <td>11.95</td>\n",
       "      <td>2019-12-12 18:21:00</td>\n",
       "      <td>18</td>\n",
       "      <td>12</td>\n",
       "      <td>277 Main St, New York City, NY 10001</td>\n",
       "      <td>New York City NY</td>\n",
       "    </tr>\n",
       "    <tr>\n",
       "      <th>3</th>\n",
       "      <td>295668</td>\n",
       "      <td>27in FHD Monitor</td>\n",
       "      <td>1</td>\n",
       "      <td>149.99</td>\n",
       "      <td>149.99</td>\n",
       "      <td>2019-12-22 15:13:00</td>\n",
       "      <td>15</td>\n",
       "      <td>12</td>\n",
       "      <td>410 6th St, San Francisco, CA 94016</td>\n",
       "      <td>San Francisco CA</td>\n",
       "    </tr>\n",
       "    <tr>\n",
       "      <th>4</th>\n",
       "      <td>295669</td>\n",
       "      <td>USB-C Charging Cable</td>\n",
       "      <td>1</td>\n",
       "      <td>11.95</td>\n",
       "      <td>11.95</td>\n",
       "      <td>2019-12-18 12:38:00</td>\n",
       "      <td>12</td>\n",
       "      <td>12</td>\n",
       "      <td>43 Hill St, Atlanta, GA 30301</td>\n",
       "      <td>Atlanta GA</td>\n",
       "    </tr>\n",
       "  </tbody>\n",
       "</table>\n",
       "</div>"
      ],
      "text/plain": [
       "  Order ID               Product Quantity Ordered Price Each    Sales  \\\n",
       "0   295665    Macbook Pro Laptop                1       1700  1700.00   \n",
       "1   295666    LG Washing Machine                1      600.0   600.00   \n",
       "2   295667  USB-C Charging Cable                1      11.95    11.95   \n",
       "3   295668      27in FHD Monitor                1     149.99   149.99   \n",
       "4   295669  USB-C Charging Cable                1      11.95    11.95   \n",
       "\n",
       "           Order Date  Hour  Month                        Purchase Address  \\\n",
       "0 2019-12-30 00:01:00     0     12  136 Church St, New York City, NY 10001   \n",
       "1 2019-12-29 07:03:00     7     12     562 2nd St, New York City, NY 10001   \n",
       "2 2019-12-12 18:21:00    18     12    277 Main St, New York City, NY 10001   \n",
       "3 2019-12-22 15:13:00    15     12     410 6th St, San Francisco, CA 94016   \n",
       "4 2019-12-18 12:38:00    12     12           43 Hill St, Atlanta, GA 30301   \n",
       "\n",
       "                City  \n",
       "0   New York City NY  \n",
       "1   New York City NY  \n",
       "2   New York City NY  \n",
       "3   San Francisco CA  \n",
       "4         Atlanta GA  "
      ]
     },
     "execution_count": 45,
     "metadata": {},
     "output_type": "execute_result"
    }
   ],
   "source": [
    "df.insert(6, 'Hour', df['Order Date'].dt.hour)\n",
    "df.insert(7, 'Minute', df['Order Date'].dt.minute)\n",
    "df.drop('Minute', inplace=True, axis=1)\n",
    "df.head()"
   ]
  },
  {
   "cell_type": "code",
   "execution_count": 46,
   "id": "24a81969",
   "metadata": {},
   "outputs": [
    {
     "data": {
      "image/png": "[encoded data removed]",
      "text/plain": [
       "<Figure size 640x480 with 1 Axes>"
      ]
     },
     "metadata": {},
     "output_type": "display_data"
    }
   ],
   "source": [
    "grp = df.groupby('Hour').count()\n",
    "\n",
    "hours = [hour for hour, df in df.groupby('Hour')]\n",
    "\n",
    "mp.plot(hours, grp)\n",
    "mp.xticks(hours)\n",
    "mp.xlabel('Hours')\n",
    "mp.ylabel('Number of purchase')\n",
    "mp.grid()\n",
    "mp.show()\n",
    "\n",
    "\n",
    "#INFERENCE\n",
    "#Most purchases are done during the hours of 11AM-1PM and 5PM-7PM.\n",
    "#Showing ADS just before this time would be the ideal decision."
   ]
  },
  {
   "cell_type": "code",
   "execution_count": null,
   "id": "b82cc6c7",
   "metadata": {},
   "outputs": [],
   "source": [
    "#What products are sold together most often?"
   ]
  },
  {
   "cell_type": "code",
   "execution_count": 47,
   "id": "1c88c556",
   "metadata": {},
   "outputs": [
    {
     "name": "stderr",
     "output_type": "stream",
     "text": [
      "/var/folders/nb/lsb0ryhs7r985fs4vtjr25q80000gn/T/ipykernel_10872/3064380924.py:2: SettingWithCopyWarning: \n",
      "A value is trying to be set on a copy of a slice from a DataFrame.\n",
      "Try using .loc[row_indexer,col_indexer] = value instead\n",
      "\n",
      "See the caveats in the documentation: https://pandas.pydata.org/pandas-docs/stable/user_guide/indexing.html#returning-a-view-versus-a-copy\n",
      "  fdf['Single List'] = fdf.groupby('Order ID')['Product'].transform(lambda x: ','.join(x))\n"
     ]
    }
   ],
   "source": [
    "fdf = df[df['Order ID'].duplicated(keep=False)]\n",
    "fdf['Single List'] = fdf.groupby('Order ID')['Product'].transform(lambda x: ','.join(x))"
   ]
  },
  {
   "cell_type": "code",
   "execution_count": 48,
   "id": "92a25117",
   "metadata": {},
   "outputs": [],
   "source": [
    "#removing the duplicates by comparing the value to the rows above\n",
    "fdf = fdf[fdf['Order ID'] != fdf['Order ID'].shift(-1)]"
   ]
  },
  {
   "cell_type": "code",
   "execution_count": 49,
   "id": "f71d457c",
   "metadata": {},
   "outputs": [
    {
     "name": "stdout",
     "output_type": "stream",
     "text": [
      "Top 10 Most Common sold pair of items are \n",
      "\n",
      "iPhone,Lightning Charging Cable : 1005\n",
      "Google Phone,USB-C Charging Cable : 987\n",
      "iPhone,Wired Headphones : 447\n",
      "Google Phone,Wired Headphones : 414\n",
      "Vareebadd Phone,USB-C Charging Cable : 361\n",
      "iPhone,Apple Airpods Headphones : 360\n",
      "Google Phone,Bose SoundSport Headphones : 220\n",
      "USB-C Charging Cable,Wired Headphones : 160\n",
      "Vareebadd Phone,Wired Headphones : 143\n",
      "Lightning Charging Cable,Wired Headphones : 92\n"
     ]
    }
   ],
   "source": [
    "counter = Counter()\n",
    "\n",
    "for row in fdf['Single List']:\n",
    "    row_items = row.split(',')\n",
    "    counter.update(Counter(combinations(row_items, 2)))\n",
    "\n",
    "print('Top 10 Most Common sold pair of items are \\n')\n",
    "for items, count in counter.most_common(10):\n",
    "    print(f'{items[0]},{items[1]} : {count}')\n",
    "    \n",
    "#INFERENCE\n",
    "#iphone and Lighning Charging Cables are most often purchased in pairs"
   ]
  },
  {
   "cell_type": "code",
   "execution_count": null,
   "id": "7712cf76",
   "metadata": {},
   "outputs": [],
   "source": [
    "# Products that are most sold during holidays"
   ]
  },
  {
   "cell_type": "code",
   "execution_count": null,
   "id": "63931f68",
   "metadata": {},
   "outputs": [],
   "source": []
  },
  {
   "cell_type": "code",
   "execution_count": null,
   "id": "b7b5de99",
   "metadata": {},
   "outputs": [],
   "source": []
  },
  {
   "cell_type": "code",
   "execution_count": null,
   "id": "49f28ee8",
   "metadata": {},
   "outputs": [],
   "source": []
  },
  {
   "cell_type": "code",
   "execution_count": null,
   "id": "735d42c6",
   "metadata": {},
   "outputs": [],
   "source": []
  },
  {
   "cell_type": "code",
   "execution_count": null,
   "id": "392740d1",
   "metadata": {},
   "outputs": [],
   "source": []
  },
  {
   "cell_type": "code",
   "execution_count": null,
   "id": "c6956bf9",
   "metadata": {},
   "outputs": [],
   "source": []
  },
  {
   "cell_type": "code",
   "execution_count": null,
   "id": "867e91bc",
   "metadata": {},
   "outputs": [],
   "source": []
  },
  {
   "cell_type": "code",
   "execution_count": null,
   "id": "80c365dc",
   "metadata": {},
   "outputs": [],
   "source": []
  },
  {
   "cell_type": "code",
   "execution_count": null,
   "id": "05ffc29a",
   "metadata": {},
   "outputs": [],
   "source": []
  },
  {
   "cell_type": "code",
   "execution_count": null,
   "id": "70243fdb",
   "metadata": {},
   "outputs": [],
   "source": []
  }
 ],
 "metadata": {
  "kernelspec": {
   "display_name": "venvkernel",
   "language": "python",
   "name": "venvkernel"
  },
  "language_info": {
   "codemirror_mode": {
    "name": "ipython",
    "version": 3
   },
   "file_extension": ".py",
   "mimetype": "text/x-python",
   "name": "python",
   "nbconvert_exporter": "python",
   "pygments_lexer": "ipython3",
   "version": "3.10.4"
  }
 },
 "nbformat": 4,
 "nbformat_minor": 5
}
